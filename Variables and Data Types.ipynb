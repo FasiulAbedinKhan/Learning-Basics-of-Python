{
 "cells": [
  {
   "cell_type": "markdown",
   "id": "713e9d0c",
   "metadata": {},
   "source": [
    "# 📌 **Introduction to Python**\n",
    "Python is a popular, high-level, interpreted programming language known for its simplicity and versatility. It is widely used in web development, data science, automation, artificial intelligence, and more."
   ]
  },
  {
   "cell_type": "markdown",
   "id": "31c9d62c",
   "metadata": {},
   "source": [
    "# ✅ **Key Concepts Covered in This Notebook:**\n",
    "1. Variables & Data Types\n",
    "2. String Manipulation\n",
    "3. Numeric Operations\n",
    "4. Boolean Logic\n",
    "5. Lists, Tuples, Sets, and Dictionaries\n",
    "6. Built-in Functions and Methods"
   ]
  },
  {
   "cell_type": "markdown",
   "id": "0673d7b1",
   "metadata": {},
   "source": [
    "# 1️⃣ Variables and Data Types"
   ]
  },
  {
   "cell_type": "markdown",
   "id": "5a31e819",
   "metadata": {},
   "source": [
    "\n",
    "Variables are like containers used to store information. In Python, you don’t need to declare the type of variable explicitly—Python will automatically detect the type based on the value you assign. \n",
    "\n",
    "**Data Types include**:\n",
    "- **String (`str`)**: Textual data (e.g., 'Hello')\n",
    "- **Integer (`int`)**: Whole numbers (e.g., 23)\n",
    "- **Float (`float`)**: Decimal numbers (e.g., 5.5)\n",
    "- **Boolean (`bool`)**: Logical values (`True` or `False`)"
   ]
  },
  {
   "cell_type": "code",
   "execution_count": 22,
   "id": "485ce5f2",
   "metadata": {},
   "outputs": [
    {
     "name": "stdout",
     "output_type": "stream",
     "text": [
      "Fasiul\n",
      "<class 'str'>\n",
      "23\n",
      "<class 'int'>\n",
      "5.5\n",
      "<class 'float'>\n",
      "True\n",
      "<class 'bool'>\n"
     ]
    }
   ],
   "source": [
    "# Defining basic data types\n",
    "name = \"Fasiul\"  # String\n",
    "age = 23         # Integer\n",
    "fav_num = 5.5    # Float\n",
    "like_py = True   # Boolean\n",
    "\n",
    "# Printing values and their types\n",
    "print(name)\n",
    "print(type(name))  # <class 'str'>\n",
    "\n",
    "print(age)\n",
    "print(type(age))   # <class 'int'>\n",
    "\n",
    "print(fav_num)\n",
    "print(type(fav_num))  # <class 'float'>\n",
    "\n",
    "print(like_py)\n",
    "print(type(like_py))  # <class 'bool'>\n"
   ]
  },
  {
   "cell_type": "markdown",
   "id": "263c0dcb",
   "metadata": {},
   "source": [
    "# 2️⃣ String Formatting"
   ]
  },
  {
   "cell_type": "markdown",
   "id": "bd658dc9",
   "metadata": {},
   "source": [
    "\n",
    "When working with text, you often need to combine strings with variables. This is called string formatting.\n",
    "\n",
    "**Common String Formatting Methods**:\n",
    "- Using Commas: Adds spaces between items automatically.\n",
    "- `f-strings` (Recommended): Embed expressions inside curly braces {}.\n",
    "- `format()` Method: A versatile way to insert values.\n"
   ]
  },
  {
   "cell_type": "code",
   "execution_count": 23,
   "id": "2ecb4729",
   "metadata": {},
   "outputs": [
    {
     "name": "stdout",
     "output_type": "stream",
     "text": [
      "Age: 23\n",
      "My name is Fasiul . I am 23 years old\n",
      "My name is Fasiul. I am 23 years old\n"
     ]
    }
   ],
   "source": [
    "# Formatting strings using commas\n",
    "print('Age:', age)  # Outputs: Age: 23\n",
    "print(\"My name is\", name, \". I am\", age, \"years old\")\n",
    "\n",
    "# Using f-strings (recommended for readability)\n",
    "print(f\"My name is {name}. I am {age} years old\")\n"
   ]
  },
  {
   "cell_type": "markdown",
   "id": "11b82c3c",
   "metadata": {},
   "source": [
    "# 3️⃣ String Manipulation"
   ]
  },
  {
   "cell_type": "markdown",
   "id": "8a17df22",
   "metadata": {},
   "source": [
    "Python treats strings as sequences of characters, meaning you can manipulate them using different techniques.\n",
    "\n",
    "**Escape Characters**:\n",
    "- `\\'` → Handles single quotes inside strings.\n",
    "- `\\\"` → Handles double quotes inside strings.\n",
    "- `\\\\` → Adds a backslash.\n",
    "- `\\n` → Newline character (moves text to the next line).\n",
    "\n",
    "Strings can be manipulated using escape characters (`\\`), multiline declarations, and more.\n",
    "- **Escape Characters**: Handle special characters (e.g., `'It\\'s Python'`).\n",
    "- **Multiline Strings**: Use triple quotes (`'''` or `\"\"\"`)."
   ]
  },
  {
   "cell_type": "code",
   "execution_count": 24,
   "id": "5b20fade",
   "metadata": {},
   "outputs": [
    {
     "name": "stdout",
     "output_type": "stream",
     "text": [
      "It's Python\n",
      "Learn \n",
      "Python\n",
      "Learn\n",
      "Python\n",
      "Learn    Python\n"
     ]
    }
   ],
   "source": [
    "# Handling single quotes in strings\n",
    "Str = 'It\\'s Python'\n",
    "print(Str)  # Output: It's Python\n",
    "\n",
    "# Multiline Strings using triple quotes\n",
    "multi_line1 = '''Learn \n",
    "Python'''\n",
    "print(multi_line1)  # Outputs in two lines\n",
    "\n",
    "# Using \\n for newline\n",
    "multi_line2 = 'Learn\\nPython'\n",
    "print(multi_line2)\n",
    "\n",
    "# Line continuation with backslash\n",
    "multi_line3 = 'Learn\\\n",
    "    Python'\n",
    "print(multi_line3)\n"
   ]
  },
  {
   "cell_type": "markdown",
   "id": "eeead220",
   "metadata": {},
   "source": [
    "# 4️⃣ String Concatenation"
   ]
  },
  {
   "cell_type": "markdown",
   "id": "e6b97f9d",
   "metadata": {},
   "source": [
    "\n",
    "Concatenation refers to joining strings using the `+` operator. Ensure the data types are compatible (e.g., joining two strings)."
   ]
  },
  {
   "cell_type": "code",
   "execution_count": 25,
   "id": "6baca109",
   "metadata": {},
   "outputs": [
    {
     "name": "stdout",
     "output_type": "stream",
     "text": [
      "Fasiul Abedin Khan\n"
     ]
    }
   ],
   "source": [
    "# Combining multiple strings\n",
    "Str1 = 'Fasiul'\n",
    "Str2 = ' Abedin'\n",
    "Str3 = ' Khan'\n",
    "print(Str1 + Str2 + Str3)  # Outputs: Fasiul Abedin Khan\n"
   ]
  },
  {
   "cell_type": "code",
   "execution_count": 26,
   "id": "53182549",
   "metadata": {},
   "outputs": [
    {
     "name": "stdout",
     "output_type": "stream",
     "text": [
      "Age: 23\n",
      "Age: 23\n"
     ]
    }
   ],
   "source": [
    "age = 23\n",
    "print(\"Age: \" + str(age))       # Using str() to convert int to string\n",
    "print(f\"Age: {age}\")            # Using f-string (easier)\n"
   ]
  },
  {
   "cell_type": "markdown",
   "id": "ef7b67fb",
   "metadata": {},
   "source": [
    "# 5️⃣ String Slicing"
   ]
  },
  {
   "cell_type": "markdown",
   "id": "eb4bae62",
   "metadata": {},
   "source": [
    "\n",
    "Slicing extracts specific parts of a string using indices.\n",
    "- **Syntax:** `string[start:end]`\n",
    "- **Negative Indexing**: Count backward from the end (`-1` refers to the last character)."
   ]
  },
  {
   "cell_type": "code",
   "execution_count": 27,
   "id": "71d5926b",
   "metadata": {},
   "outputs": [
    {
     "name": "stdout",
     "output_type": "stream",
     "text": [
      "e\n",
      "earn Py\n",
      "Learn Python\n",
      "n\n",
      "P\n"
     ]
    }
   ],
   "source": [
    "# Accessing parts of a string using slicing\n",
    "Str4 = \"Learn Python\"\n",
    "\n",
    "# Accessing parts of a string\n",
    "print(Str4[1])       # 'e' (index 1)\n",
    "print(Str4[1:8])     # 'earn Py' (from index 1 to 7)\n",
    "print(Str4[0:])      # 'Learn Python' (entire string)\n",
    "print(Str4[-1])      # 'n' (last character)\n",
    "print(Str4[-6])      # 'P' (6th character from the end)\n",
    "\n"
   ]
  },
  {
   "cell_type": "markdown",
   "id": "c3709b59",
   "metadata": {},
   "source": [
    "- `Str4[:]` → Returns the full string.\n",
    "- `Str4[::-1]` → Reverses the string."
   ]
  },
  {
   "cell_type": "markdown",
   "id": "944a430d",
   "metadata": {},
   "source": [
    "# 6️⃣ String Functions"
   ]
  },
  {
   "cell_type": "markdown",
   "id": "202b1fda",
   "metadata": {},
   "source": [
    "\n",
    "Python provides built-in functions for string manipulation:\n",
    "\n",
    "- `.capitalize()`: Capitalizes the first letter.\n",
    "- `.upper()`: Converts all characters to uppercase.\n",
    "- `.isupper()`: Checks if all characters are uppercase.\n",
    "- `.len()`: Returns the length of the string.\n",
    "- `.ord()`: Returns the Unicode code of a character.\n",
    "- `.chr()`: Converts Unicode code to character."
   ]
  },
  {
   "cell_type": "code",
   "execution_count": 28,
   "id": "abbf68a9",
   "metadata": {},
   "outputs": [
    {
     "name": "stdout",
     "output_type": "stream",
     "text": [
      "Learn python\n",
      "LEARN PYTHON\n",
      "False\n",
      "12\n",
      "65\n",
      "Q\n"
     ]
    }
   ],
   "source": [
    "\n",
    "# Basic string functions\n",
    "print(Str4.capitalize())  # Capitalize the first letter\n",
    "print(Str4.upper())       # Convert to uppercase\n",
    "print(Str4.isupper())     # Check if uppercase\n",
    "\n",
    "# Length of the string\n",
    "print(len(Str4))\n",
    "\n",
    "# Unicode operations\n",
    "print(ord('A'))  # Unicode of 'A'\n",
    "print(chr(81))   # Character for Unicode 81\n"
   ]
  },
  {
   "cell_type": "markdown",
   "id": "d653e2ef",
   "metadata": {},
   "source": [
    "# 7️⃣ Numeric Data Types"
   ]
  },
  {
   "cell_type": "markdown",
   "id": "44024211",
   "metadata": {},
   "source": [
    "\n",
    "Python supports various numeric data types:\n",
    "- **Integers (`int`)**: Whole numbers like `2`, `100`.\n",
    "- **Floats (`float`)**: Decimal numbers like `3.14`, `-0.5`.\n",
    "- **Complex Numbers (`complex`)**: Numbers with a real and imaginary part (e.g., `2 + 5j`)."
   ]
  },
  {
   "cell_type": "code",
   "execution_count": 29,
   "id": "4844de41",
   "metadata": {},
   "outputs": [
    {
     "name": "stdout",
     "output_type": "stream",
     "text": [
      "(2+5j)\n",
      "5.0\n",
      "2.0\n",
      "(2-5j)\n",
      "(22.2+5j)\n",
      "<class 'complex'>\n"
     ]
    }
   ],
   "source": [
    "\n",
    "# Integer, Float, Complex Numbers\n",
    "n1 = 2 \n",
    "n2 = -2\n",
    "n3 = 20.2\n",
    "n4 = 2 + 5j  # Complex number\n",
    "\n",
    "# Complex Number Operations\n",
    "print(n4)\n",
    "print(n4.imag)         # Imaginary part\n",
    "print(n4.real)         # Real part\n",
    "print(n4.conjugate())  # Conjugate of the complex number\n",
    "\n",
    "\n",
    "# Arithmetic Operations\n",
    "add = n1 + n2 + n3 + n4\n",
    "print(add)\n",
    "print(type(add))\n"
   ]
  },
  {
   "cell_type": "markdown",
   "id": "861ff2f3",
   "metadata": {},
   "source": [
    "# 8️⃣ Numeric Functions"
   ]
  },
  {
   "cell_type": "markdown",
   "id": "60c7028d",
   "metadata": {},
   "source": [
    "\n",
    "Common numeric functions include:\n",
    "- `abs()`: Returns the absolute value.\n",
    "- `min() / max()`: Finds the smallest/largest number.\n",
    "- `pow()`: Calculates the power of a number.\n",
    "- `divmod()`: Returns quotient and remainder as a tuple.\n",
    "- `round()`: Rounds a number to specified decimal places."
   ]
  },
  {
   "cell_type": "code",
   "execution_count": 30,
   "id": "03f1db62",
   "metadata": {},
   "outputs": [
    {
     "name": "stdout",
     "output_type": "stream",
     "text": [
      "22.75609808381041\n",
      "2\n",
      "-2\n",
      "20.2\n",
      "256\n",
      "(3, 1)\n",
      "3.148\n"
     ]
    }
   ],
   "source": [
    "\n",
    "# Basic numeric functions\n",
    "print(abs(add))             # Absolute value\n",
    "print(abs(n2))              # Absolute for negative number\n",
    "print(min(n1, n2, n3))      # Minimum value\n",
    "print(max(n1, n2, n3))      # Maximum value\n",
    "print(pow(2, 8))            # Power function\n",
    "\n",
    "# Division Modulus (Quotient and Remainder)\n",
    "result = divmod(10, 3)\n",
    "print(result)\n",
    "\n",
    "# Rounding\n",
    "print(round(3.147686956, 3))  # Round to 3 decimal places\n"
   ]
  },
  {
   "cell_type": "markdown",
   "id": "2911a094",
   "metadata": {},
   "source": [
    "# 9️⃣ Boolean Operations"
   ]
  },
  {
   "cell_type": "markdown",
   "id": "ad2f021c",
   "metadata": {},
   "source": [
    "\n",
    "Booleans represent logical values: `True` or `False`. They are essential for conditional statements and comparisons.\n",
    "- Operators: `==`, `!=`, `>`, `<`, `>=`, `<=`."
   ]
  },
  {
   "cell_type": "code",
   "execution_count": 31,
   "id": "02b5eb24",
   "metadata": {},
   "outputs": [
    {
     "name": "stdout",
     "output_type": "stream",
     "text": [
      "False\n",
      "True\n",
      "True\n"
     ]
    }
   ],
   "source": [
    "\n",
    "# Comparison operations\n",
    "num1 = 5\n",
    "num2 = 4\n",
    "\n",
    "print(bool(num1 == num2))   # Equality\n",
    "print(bool(num1 > num2))    # Greater than\n",
    "print(bool(num1 != num2))   # Not equal\n"
   ]
  },
  {
   "cell_type": "markdown",
   "id": "d7f9610d",
   "metadata": {},
   "source": [
    "🔑 **Logical Operators**:\n",
    "- `and` → True if both conditions are True\n",
    "- `or` → True if at least one condition is True\n",
    "- `not` → Inverts the condition"
   ]
  },
  {
   "cell_type": "markdown",
   "id": "ef6725bb",
   "metadata": {},
   "source": [
    "# 🔟 Python Lists"
   ]
  },
  {
   "cell_type": "markdown",
   "id": "f8798737",
   "metadata": {},
   "source": [
    "Lists are ordered, mutable collections of items.\n",
    "- **Ordered**: The items have a specific position (index).\n",
    "- **Mutable**: You can change, add, or remove items after the list is created.\n",
    "- **Allows Duplicates**: Lists can contain the same value multiple times."
   ]
  },
  {
   "cell_type": "code",
   "execution_count": 32,
   "id": "73984670",
   "metadata": {},
   "outputs": [
    {
     "name": "stdout",
     "output_type": "stream",
     "text": [
      "[8, 2, 15, 4, 5]\n",
      "[8, 2, 15, 'Java', 5]\n",
      "[8, 2, 15, 'Java', 5, 'f', 'A', 'C', 'C++']\n"
     ]
    }
   ],
   "source": [
    "# Defining and modifying lists\n",
    "lst1 = [8, 2, 15, 4, 5]\n",
    "lst2 = ['f', 'A', 'C', 'C++']\n",
    "print(lst1)\n",
    "\n",
    "# List Modification\n",
    "lst1[3] = 'Java'\n",
    "print(lst1)\n",
    "\n",
    "# Merging Lists\n",
    "lst = [*lst1, *lst2]\n",
    "print(lst)\n"
   ]
  },
  {
   "cell_type": "markdown",
   "id": "92578774",
   "metadata": {},
   "source": [
    " **List Operations**:\n",
    "- **Indexing**: `lst1[0]` refers to the first element.\n",
    "- **Slicing**: `lst1[1:4]` extracts items from index 1 to 3."
   ]
  },
  {
   "cell_type": "markdown",
   "id": "01f12400",
   "metadata": {},
   "source": [
    "# 1️⃣1️⃣ List Built-in Functions"
   ]
  },
  {
   "cell_type": "markdown",
   "id": "0f2c389f",
   "metadata": {},
   "source": [
    "Common list operations:\n",
    "\n",
    "- `.append()`: Adds an item at the end.\n",
    "- `.remove()`: Removes a specific element.\n",
    "- `.pop()`: Removes an element by index.\n",
    "- `.sort()`: Sorts the list.\n",
    "- `.reverse()`: Reverses the list."
   ]
  },
  {
   "cell_type": "code",
   "execution_count": 33,
   "id": "12f8742f",
   "metadata": {},
   "outputs": [
    {
     "name": "stdout",
     "output_type": "stream",
     "text": [
      "['P', 'y', 't', 'h', 'o', 'n']\n",
      "[2, 4, 5, 8, 15]\n",
      "[2, 4, 5, 8, 15, 50]\n",
      "[2, 4, 5, 8, 50]\n",
      "[2, 4, 8, 50]\n",
      "[50, 8, 4, 2]\n",
      "0\n",
      "1\n",
      "[]\n"
     ]
    }
   ],
   "source": [
    "lst = list('Python')  # Convert string to list of characters\n",
    "print(lst)            # ['P', 'y', 't', 'h', 'o', 'n']\n",
    "\n",
    "lst1 = [8, 2, 15, 4, 5]\n",
    "lst1.sort()           # Sorting in ascending order\n",
    "print(lst1)\n",
    "\n",
    "lst1.append(50)       # Adding an element to the end\n",
    "print(lst1)\n",
    "\n",
    "lst1.remove(15)       # Removing the value 15\n",
    "print(lst1)\n",
    "\n",
    "lst1.pop(2)           # Removing the item at index 2\n",
    "print(lst1)\n",
    "\n",
    "lst1.reverse()        # Reversing the list\n",
    "print(lst1)\n",
    "\n",
    "print(lst1.index(50)) # Finding the index of 50\n",
    "print(lst1.count(4))  # Counting occurrences of the number 4\n",
    "\n",
    "lst1.clear()          # Clearing all items\n",
    "print(lst1)\n"
   ]
  },
  {
   "cell_type": "markdown",
   "id": "e333abaa",
   "metadata": {},
   "source": [
    "# 1️⃣2️⃣ Tuples"
   ]
  },
  {
   "cell_type": "markdown",
   "id": "a68822b2",
   "metadata": {},
   "source": [
    "Tuples are immutable collections, meaning they cannot be modified after creation.\n",
    "- **Immutable**: Once created, you cannot change its elements.\n",
    "- **Ordered**: The items have a defined order.\n",
    "- **Allows Duplicates**: Like lists, tuples can contain duplicates."
   ]
  },
  {
   "cell_type": "code",
   "execution_count": 34,
   "id": "a806a556",
   "metadata": {},
   "outputs": [
    {
     "name": "stdout",
     "output_type": "stream",
     "text": [
      "(1, 2, 4, '5', 'f', 'y')\n",
      "('p', 'y', 't', 'h', 'o', 'n')\n",
      "4\n"
     ]
    }
   ],
   "source": [
    "tpl = (1, 2, 4, '5', 'f', 'y')  # Tuple with mixed data types\n",
    "print(tpl)\n",
    "\n",
    "tpl1 = tuple('python')          # Convert string to tuple\n",
    "print(tpl1)\n",
    "\n",
    "# Tuple Slicing\n",
    "print(tpl[2])                   # Access the 3rd item (index 2)\n"
   ]
  },
  {
   "cell_type": "markdown",
   "id": "fa01002f",
   "metadata": {},
   "source": [
    "**Modifying Tuples**:\n",
    "Since tuples are immutable, you can't change them directly. However, you can:\n",
    "\n",
    "- Convert to a list → Modify → Convert back to a tuple."
   ]
  },
  {
   "cell_type": "code",
   "execution_count": 35,
   "id": "0ba0e986",
   "metadata": {},
   "outputs": [
    {
     "name": "stdout",
     "output_type": "stream",
     "text": [
      "(1, 2, 4, '5', 'f', 'y', 'Fasiul', 'Abedin', 'Khan')\n",
      "((1, 2, 4, '5', 'f', 'y'), ('p', 'y', 't', 'h', 'o', 'n'))\n",
      "(1, 2, 4, '5', 'f', 'y', 'p', 'y', 't', 'h', 'o', 'n')\n"
     ]
    }
   ],
   "source": [
    "# Adding elements (via concatenation)\n",
    "tpl2 = tpl + (\"Fasiul\", 'Abedin', 'Khan')\n",
    "print(tpl2)\n",
    "\n",
    "# Nested Tuples\n",
    "IPL = (tpl, tpl1)\n",
    "print(IPL)\n",
    "\n",
    "# Unpacking Tuples\n",
    "IPL = (*tpl, *tpl1)\n",
    "print(IPL)\n"
   ]
  },
  {
   "cell_type": "code",
   "execution_count": 36,
   "id": "149069f2",
   "metadata": {},
   "outputs": [
    {
     "name": "stdout",
     "output_type": "stream",
     "text": [
      "3\n",
      "1\n"
     ]
    }
   ],
   "source": [
    "print(tpl1.index('h'))  # Finding the index of 'h'\n",
    "tpl3 = tuple(\"Pythonpythonpython\")\n",
    "print(tpl3.count('P'))  # Counting occurrences of 'P'\n"
   ]
  },
  {
   "cell_type": "markdown",
   "id": "4212eaa2",
   "metadata": {},
   "source": [
    "# 1️⃣3️⃣ Sets"
   ]
  },
  {
   "cell_type": "markdown",
   "id": "39c96a36",
   "metadata": {},
   "source": [
    "Sets are unordered collections of unique items.\n",
    "A set is:\n",
    "\n",
    "- **Unordered**: No specific order, so items don’t have indexes.\n",
    "- **Mutable**: You can add or remove items.\n",
    "- **No Duplicates**: Automatically removes duplicate items."
   ]
  },
  {
   "cell_type": "code",
   "execution_count": 37,
   "id": "ea98a0b9",
   "metadata": {},
   "outputs": [
    {
     "name": "stdout",
     "output_type": "stream",
     "text": [
      "{1, 2, 3, 4, 5, 6}\n",
      "{1, 2, 5, 6, 9, 77}\n"
     ]
    }
   ],
   "source": [
    "# Sets contain unique values\n",
    "sts = {1, 2, 3, 4, 5, 5, 6}  # Duplicates are removed automatically\n",
    "print(sts)\n",
    "\n",
    "# Converting from tuple to set\n",
    "tpl4 = (5, 6, 9, 2, 1, 6, 77)\n",
    "sts1 = set(tpl4)\n",
    "print(sts1)\n"
   ]
  },
  {
   "cell_type": "markdown",
   "id": "8ac0ef32",
   "metadata": {},
   "source": [
    " **Key Set Methods**:\n",
    "- `add()`, `remove()`, `discard()`, `update()`\n",
    "- `union()`, `intersection()`, `difference()`, `symmetric_difference()`"
   ]
  },
  {
   "cell_type": "code",
   "execution_count": 38,
   "id": "7a332516",
   "metadata": {},
   "outputs": [
    {
     "name": "stdout",
     "output_type": "stream",
     "text": [
      "{10, 11, 12, 50}\n",
      "{200}\n",
      "{50, 200, 10, 11, 12}\n",
      "{1, 2, 3, 4, 5, 6}\n",
      "{3, 4}\n",
      "{1, 2}\n",
      "{1, 2, 5, 6}\n"
     ]
    }
   ],
   "source": [
    "st1, st2 = {10, 11, 12}, {100, 200}\n",
    "\n",
    "st1.add(50)         # Adding an element\n",
    "print(st1)\n",
    "\n",
    "st2.remove(100)     # Removing an element\n",
    "print(st2)\n",
    "\n",
    "st1.update(st2)     # Merging two sets\n",
    "print(st1)\n",
    "\n",
    "# Set Union, Intersection, Difference, Symmetric Difference\n",
    "st1, st2 = {1, 2, 3, 4}, {3, 4, 5, 6}\n",
    "print(st1 | st2)    # Union\n",
    "print(st1 & st2)    # Intersection\n",
    "print(st1 - st2)    # Difference\n",
    "print(st1 ^ st2)    # Symmetric Difference\n"
   ]
  },
  {
   "cell_type": "markdown",
   "id": "9873c4ed",
   "metadata": {},
   "source": [
    "# 1️⃣4️⃣ Dictionaries"
   ]
  },
  {
   "cell_type": "markdown",
   "id": "91714147",
   "metadata": {},
   "source": [
    "A dictionary is a collection of key-value pairs:\n",
    "\n",
    "- **Keys**: Must be unique and immutable (like strings or numbers).\n",
    "- **Values**: Can be any data type."
   ]
  },
  {
   "cell_type": "code",
   "execution_count": 39,
   "id": "d512e710",
   "metadata": {},
   "outputs": [
    {
     "name": "stdout",
     "output_type": "stream",
     "text": [
      "{'Pass': '1234', 'Class': 9, 'Name': 'Fasiul'}\n",
      "1234\n",
      "{'1': {'Pass': '1234', 'Class': 9, 'Name': 'Fasiul'}, '2': {'Age': 23, 'Birth Month': 'April'}}\n",
      "{'Pass': '1234', 'Class': 9, 'Name': 'Fasiul'}\n"
     ]
    }
   ],
   "source": [
    "# Key-value pairs\n",
    "dt = {'Pass': '1234', 'Class': 9, 'Name': 'Fasiul'}\n",
    "print(dt)\n",
    "print(dt['Pass'])      # Accessing value by key\n",
    "\n",
    "# Nested Dictionary\n",
    "dt1 = {\"Age\": 23, 'Birth Month': 'April'}\n",
    "Dt = {'1': dt, '2': dt1}\n",
    "print(Dt)\n",
    "print(Dt['1'])         # Accessing nested dictionary\n"
   ]
  },
  {
   "cell_type": "markdown",
   "id": "3f0dbe9c",
   "metadata": {},
   "source": [
    "🔑 **Common Dictionary Methods**:\n",
    "- `keys()`, `values()`, `items()`\n",
    "- `update()`, `pop()`, `clear()`, `get()`"
   ]
  },
  {
   "cell_type": "code",
   "execution_count": 40,
   "id": "2c026b6a",
   "metadata": {},
   "outputs": [
    {
     "name": "stdout",
     "output_type": "stream",
     "text": [
      "{'k1': 4, 'k2': 4, 'k3': 4}\n",
      "{'k1': 19, 'k2': 4, 'k3': 20}\n",
      "{'k1': 19, 'k3': 20}\n",
      "{'k1': 19, 'k3': 20, 'k4': 50}\n",
      "{}\n"
     ]
    }
   ],
   "source": [
    "# Creating Dictionary from Keys\n",
    "keys = ('k1', 'k2', 'k3')\n",
    "val = 4\n",
    "dt = dict.fromkeys(keys, val)\n",
    "print(dt)\n",
    "\n",
    "# Modifying Dictionary\n",
    "dt['k1'] = 19\n",
    "dt['k3'] = 20\n",
    "print(dt)\n",
    "\n",
    "# Removing and Updating Elements\n",
    "dt.pop('k2')           # Removing a key\n",
    "print(dt)\n",
    "\n",
    "dt.update({'k4': 50})  # Adding a new key-value pair\n",
    "print(dt)\n",
    "\n",
    "# Clearing Dictionary\n",
    "dt.clear()\n",
    "print(dt)\n"
   ]
  },
  {
   "cell_type": "markdown",
   "id": "ab3018e4",
   "metadata": {},
   "source": [
    "🚀 **Quick Recap**:\n",
    "- **Lists**: Ordered, mutable, allows duplicates.\n",
    "- **Tuples**: Ordered, immutable, allows duplicates.\n",
    "- **Sets**: Unordered, mutable, no duplicates.\n",
    "- **Dictionaries**: Key-value pairs, mutable, keys are unique."
   ]
  }
 ],
 "metadata": {
  "kernelspec": {
   "display_name": "Python 3",
   "language": "python",
   "name": "python3"
  },
  "language_info": {
   "codemirror_mode": {
    "name": "ipython",
    "version": 3
   },
   "file_extension": ".py",
   "mimetype": "text/x-python",
   "name": "python",
   "nbconvert_exporter": "python",
   "pygments_lexer": "ipython3",
   "version": "3.13.1"
  }
 },
 "nbformat": 4,
 "nbformat_minor": 5
}
